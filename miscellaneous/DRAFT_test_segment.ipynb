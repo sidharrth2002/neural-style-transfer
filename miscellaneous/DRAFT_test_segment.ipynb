{
 "cells": [
  {
   "cell_type": "code",
   "execution_count": 2,
   "metadata": {},
   "outputs": [
    {
     "name": "stdout",
     "output_type": "stream",
     "text": [
      "2.2.0\n"
     ]
    }
   ],
   "source": [
    "import os\n",
    "# import tempfile\n",
    "import numpy as np\n",
    "import tensorflow as tf\n",
    "print(tf.__version__)"
   ]
  },
  {
   "cell_type": "code",
   "execution_count": 3,
   "metadata": {},
   "outputs": [
    {
     "name": "stdout",
     "output_type": "stream",
     "text": [
      "(2049, 1025)\n"
     ]
    }
   ],
   "source": [
    "# Load the model.\n",
    "cwd = os.getcwd()\n",
    "model_path = os.path.join(cwd, 'models', 'deeplabv3.tflite')\n",
    "interpreter = tf.lite.Interpreter(model_path=model_path)\n",
    "\n",
    "# Set model input.\n",
    "input_details = interpreter.get_input_details()\n",
    "interpreter.allocate_tensors()\n",
    "\n",
    "# Get image size - converting from BHWC to WH # ([1,1025,2049,19]: Shape of ResizeBilinear_2 op)\n",
    "input_size = input_details[0]['shape'][2], input_details[0]['shape'][1]\n",
    "print(input_size)"
   ]
  },
  {
   "cell_type": "code",
   "execution_count": null,
   "metadata": {},
   "outputs": [],
   "source": []
  },
  {
   "cell_type": "code",
   "execution_count": null,
   "metadata": {},
   "outputs": [],
   "source": []
  },
  {
   "cell_type": "code",
   "execution_count": null,
   "metadata": {},
   "outputs": [],
   "source": []
  },
  {
   "cell_type": "code",
   "execution_count": null,
   "metadata": {},
   "outputs": [],
   "source": []
  },
  {
   "cell_type": "code",
   "execution_count": null,
   "metadata": {},
   "outputs": [],
   "source": [
    "vis_segmentation(cropped_image, seg_map)"
   ]
  },
  {
   "cell_type": "code",
   "execution_count": null,
   "metadata": {},
   "outputs": [],
   "source": [
    "#@title\n",
    "from matplotlib import gridspec\n",
    "from matplotlib import pyplot as plt\n",
    "\n",
    "def create_cityscapes_label_colormap():\n",
    "  \"\"\"Creates a label colormap used in CITYSCAPES segmentation benchmark.\n",
    "  Returns:\n",
    "    A colormap for visualizing segmentation results.\n",
    "  \"\"\"\n",
    "  colormap = np.zeros((256, 3), dtype=np.uint8)\n",
    "  colormap[0] = [128, 64, 128]\n",
    "  colormap[1] = [244, 35, 232]\n",
    "  colormap[2] = [70, 70, 70]\n",
    "  colormap[3] = [102, 102, 156]\n",
    "  colormap[4] = [190, 153, 153]\n",
    "  colormap[5] = [153, 153, 153]\n",
    "  colormap[6] = [250, 170, 30]\n",
    "  colormap[7] = [220, 220, 0]\n",
    "  colormap[8] = [107, 142, 35]\n",
    "  colormap[9] = [152, 251, 152]\n",
    "  colormap[10] = [70, 130, 180]\n",
    "  colormap[11] = [220, 20, 60]\n",
    "  colormap[12] = [255, 0, 0]\n",
    "  colormap[13] = [0, 0, 142]\n",
    "  colormap[14] = [0, 0, 70]\n",
    "  colormap[15] = [0, 60, 100]\n",
    "  colormap[16] = [0, 80, 100]\n",
    "  colormap[17] = [0, 0, 230]\n",
    "  colormap[18] = [119, 11, 32]\n",
    "  return colormap\n",
    "\n",
    "\n",
    "def label_to_color_image(label):\n",
    "  \"\"\"Adds color defined by the dataset colormap to the label.\n",
    "\n",
    "  Args:\n",
    "    label: A 2D array with integer type, storing the segmentation label.\n",
    "\n",
    "  Returns:\n",
    "    result: A 2D array with floating type. The element of the array\n",
    "      is the color indexed by the corresponding element in the input label\n",
    "      to the PASCAL color map.\n",
    "\n",
    "  Raises:\n",
    "    ValueError: If label is not of rank 2 or its value is larger than color\n",
    "      map maximum entry.\n",
    "  \"\"\"\n",
    "  if label.ndim != 2:\n",
    "    raise ValueError('Expect 2-D input label')\n",
    "\n",
    "  colormap = create_cityscapes_label_colormap()\n",
    "\n",
    "  if np.max(label) >= len(colormap):\n",
    "    raise ValueError('label value too large.')\n",
    "\n",
    "  return colormap[label]\n",
    "\n",
    "\n",
    "def vis_segmentation(image, seg_map):\n",
    "  \"\"\"Visualizes input image, segmentation map and overlay view.\"\"\"\n",
    "  plt.figure(figsize=(15, 5))\n",
    "  grid_spec = gridspec.GridSpec(1, 4, width_ratios=[6, 6, 6, 1])\n",
    "\n",
    "  plt.subplot(grid_spec[0])\n",
    "  plt.imshow(image)\n",
    "  plt.axis('off')\n",
    "  plt.title('input image')\n",
    "\n",
    "  plt.subplot(grid_spec[1])\n",
    "  seg_image = label_to_color_image(seg_map).astype(np.uint8)\n",
    "  plt.imshow(seg_image)\n",
    "  plt.axis('off')\n",
    "  plt.title('segmentation map')\n",
    "\n",
    "  plt.subplot(grid_spec[2])\n",
    "  plt.imshow(image)\n",
    "  plt.imshow(seg_image, alpha=0.7)\n",
    "  plt.axis('off')\n",
    "  plt.title('segmentation overlay')\n",
    "\n",
    "  unique_labels = np.unique(seg_map)\n",
    "  ax = plt.subplot(grid_spec[3])\n",
    "  plt.imshow(\n",
    "      FULL_COLOR_MAP[unique_labels].astype(np.uint8), interpolation='nearest')\n",
    "  ax.yaxis.tick_right()\n",
    "  plt.yticks(range(len(unique_labels)), LABEL_NAMES[unique_labels])\n",
    "  plt.xticks([], [])\n",
    "  ax.tick_params(width=0.0)\n",
    "  plt.grid('off')\n",
    "  plt.show()\n",
    "\n",
    "\n",
    "LABEL_NAMES = np.asarray([\n",
    "      'road',\n",
    "      'sidewalk',\n",
    "      'building',\n",
    "      'wall',\n",
    "      'fence',\n",
    "      'pole',\n",
    "      'traffic light',\n",
    "      'traffic sign',\n",
    "      'vegetation',\n",
    "      'terrain',\n",
    "      'sky',\n",
    "      'person',\n",
    "      'rider',\n",
    "      'car',\n",
    "      'truck',\n",
    "      'bus',\n",
    "      'train',\n",
    "      'motorcycle',\n",
    "      'bicycle',\n",
    "])\n",
    "\n",
    "FULL_LABEL_MAP = np.arange(len(LABEL_NAMES)).reshape(len(LABEL_NAMES), 1)\n",
    "FULL_COLOR_MAP = label_to_color_image(FULL_LABEL_MAP)"
   ]
  }
 ],
 "metadata": {
  "interpreter": {
   "hash": "916dbcbb3f70747c44a77c7bcd40155683ae19c65e1c03b4aa3499c5328201f1"
  },
  "kernelspec": {
   "display_name": "Python 3.8.10 64-bit",
   "name": "python3"
  },
  "language_info": {
   "codemirror_mode": {
    "name": "ipython",
    "version": 3
   },
   "file_extension": ".py",
   "mimetype": "text/x-python",
   "name": "python",
   "nbconvert_exporter": "python",
   "pygments_lexer": "ipython3",
   "version": "3.8.10"
  },
  "orig_nbformat": 4
 },
 "nbformat": 4,
 "nbformat_minor": 2
}
