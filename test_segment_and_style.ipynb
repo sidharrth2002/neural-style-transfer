{
 "cells": [
  {
   "cell_type": "code",
   "execution_count": 1,
   "metadata": {},
   "outputs": [
    {
     "name": "stdout",
     "output_type": "stream",
     "text": [
      "TF Version:  2.7.0\n",
      "TF-Hub version:  0.12.0\n",
      "Eager mode enabled:  True\n",
      "GPU available:  []\n"
     ]
    },
    {
     "name": "stderr",
     "output_type": "stream",
     "text": [
      "2021-11-19 11:01:29.740915: I tensorflow/core/platform/cpu_feature_guard.cc:151] This TensorFlow binary is optimized with oneAPI Deep Neural Network Library (oneDNN) to use the following CPU instructions in performance-critical operations:  AVX2 FMA\n",
      "To enable them in other operations, rebuild TensorFlow with the appropriate compiler flags.\n"
     ]
    }
   ],
   "source": [
    "# import functools\n",
    "import os\n",
    "\n",
    "# from matplotlib import gridspec\n",
    "import matplotlib.pylab as plt\n",
    "import numpy as np\n",
    "import tensorflow as tf\n",
    "import tensorflow_hub as hub\n",
    "\n",
    "from tensorflow.compat.v1 import ConfigProto\n",
    "from tensorflow.compat.v1 import InteractiveSession\n",
    "\n",
    "config = ConfigProto()\n",
    "config.gpu_options.allow_growth = True\n",
    "session = InteractiveSession(config=config)\n",
    "\n",
    "print(\"TF Version: \", tf.__version__)\n",
    "print(\"TF-Hub version: \", hub.__version__)\n",
    "print(\"Eager mode enabled: \", tf.executing_eagerly())\n",
    "print(\"GPU available: \", tf.config.list_physical_devices('GPU'))"
   ]
  },
  {
   "cell_type": "code",
   "execution_count": 2,
   "metadata": {},
   "outputs": [],
   "source": [
    "# # @title Define image loading and visualization functions  { display-mode: \"form\" }\n",
    "\n",
    "# def crop_center(image):\n",
    "#   \"\"\"Returns a cropped square image.\"\"\"\n",
    "#   shape = image.shape\n",
    "#   new_shape = min(shape[1], shape[2])\n",
    "#   offset_y = max(shape[1] - shape[2], 0) // 2\n",
    "#   offset_x = max(shape[2] - shape[1], 0) // 2\n",
    "#   image = tf.image.crop_to_bounding_box(\n",
    "#       image, offset_y, offset_x, new_shape, new_shape)\n",
    "#   return image\n",
    "\n",
    "# @functools.lru_cache(maxsize=None)\n",
    "# def load_image(image_url, image_size=(256, 256), preserve_aspect_ratio=True):\n",
    "#   \"\"\"Loads and preprocesses images.\"\"\"\n",
    "#   # Cache image file locally.\n",
    "#   image_path = tf.keras.utils.get_file(os.path.basename(image_url)[-128:], image_url)\n",
    "#   # Load and convert to float32 numpy array, add batch dimension, and normalize to range [0, 1].\n",
    "#   img = tf.io.decode_image(\n",
    "#       tf.io.read_file(image_path),\n",
    "#       channels=3, dtype=tf.float32)[tf.newaxis, ...]\n",
    "#   img = crop_center(img)\n",
    "#   img = tf.image.resize(img, image_size, preserve_aspect_ratio=True)\n",
    "#   return img\n",
    "\n",
    "# def show_n(images, titles=('',)):\n",
    "#   n = len(images)\n",
    "#   image_sizes = [image.shape[1] for image in images]\n",
    "#   w = (image_sizes[0] * 6) // 320\n",
    "#   plt.figure(figsize=(w  * n, w))\n",
    "#   gs = gridspec.GridSpec(1, n, width_ratios=image_sizes)\n",
    "#   for i in range(n):\n",
    "#     plt.subplot(gs[i])\n",
    "#     plt.imshow(images[i][0], aspect='equal')\n",
    "#     plt.axis('off')\n",
    "#     plt.title(titles[i] if len(titles) > i else '')\n",
    "#   plt.show()"
   ]
  },
  {
   "cell_type": "code",
   "execution_count": 3,
   "metadata": {},
   "outputs": [],
   "source": [
    "##### Utility functions related to showing and saving images\n",
    "\n",
    "def show_img(images, titles=('',), figsize=(20, 8)):\n",
    "  plt.figure(figsize=figsize)\n",
    "  imgs = len(images)\n",
    "  for i, img in enumerate(images):\n",
    "    plt.subplot(1, imgs, i + 1)\n",
    "    if type(img) == tf.python.framework.ops.EagerTensor:\n",
    "      # The output image is by default an EagerTensor instance, hence we will need to squeeze the image dimensions for display\n",
    "      images[i] = np.squeeze(images[i])\n",
    "    plt.imshow(images[i])\n",
    "    plt.title(titles[i])\n",
    "    plt.axis('off')\n",
    "  plt.show()\n",
    "\n",
    "def save_image(img, filename, savedir):\n",
    "    plt.imsave(os.path.join(savedir, filename), img)"
   ]
  },
  {
   "cell_type": "code",
   "execution_count": 4,
   "metadata": {},
   "outputs": [],
   "source": [
    "##### Utility functions related to loading the magenta model and stylizing image using magenta model\n",
    "\n",
    "def load_magenta_model():\n",
    "    cwd = os.getcwd()\n",
    "\n",
    "    # Load image stylization module.\n",
    "    hub_handle = os.path.join(cwd, 'models', 'magenta')\n",
    "    hub_module = hub.load(hub_handle)\n",
    "    return hub_module\n",
    "\n",
    "def style_img_magenta(content_image, style_image, hub_module):\n",
    "    # Convert to float32 numpy array, add batch dimension, and normalize to range [0, 1]. Example using numpy:\n",
    "    ctm = content_image.copy()\n",
    "    stm = style_image.copy()\n",
    "    ctm = ctm.astype(np.float32)[np.newaxis, ...] / 255.\n",
    "    stm = stm.astype(np.float32)[np.newaxis, ...] / 255.\n",
    "\n",
    "    # Optionally resize the images. It is recommended that the style image is about\n",
    "    # 256 pixels (this size was used when training the style transfer network).\n",
    "    # The content image can be any size.\n",
    "    stm = tf.image.resize(stm, (256, 256))\n",
    "\n",
    "    # Stylize image\n",
    "    outputs = hub_module(tf.constant(ctm), tf.constant(stm))\n",
    "    stylized_image = outputs[0]\n",
    "    return stylized_image\n",
    "hub_module = load_magenta_model()"
   ]
  },
  {
   "cell_type": "code",
   "execution_count": 5,
   "metadata": {},
   "outputs": [
    {
     "name": "stdout",
     "output_type": "stream",
     "text": [
      "The content images available by default are: ['klcc.jpg', 'msia1.jpg', 'msia2.jpg', 'sanfran1.jpg', 'sanfran2.jpg', 'sanfran3.jpg']\n",
      "\n",
      "The style images available by default are: ['kandinsky.jpg', 'seated-nude.jpg', 'shipwreck.jpg', 'starry-night.jpg', 'the-scream.jpg', 'woman-with-hat-matisse.jpg']\n",
      "\n"
     ]
    },
    {
     "ename": "AttributeError",
     "evalue": "module 'tensorflow' has no attribute 'python'",
     "output_type": "error",
     "traceback": [
      "\u001b[0;31m---------------------------------------------------------------------------\u001b[0m",
      "\u001b[0;31mAttributeError\u001b[0m                            Traceback (most recent call last)",
      "\u001b[0;32m/var/folders/sg/4x_5htrx3y7fm7z77wcz8c_40000gn/T/ipykernel_67768/2121101140.py\u001b[0m in \u001b[0;36m<module>\u001b[0;34m\u001b[0m\n\u001b[1;32m     30\u001b[0m \u001b[0;34m\u001b[0m\u001b[0m\n\u001b[1;32m     31\u001b[0m \u001b[0msave_image\u001b[0m\u001b[0;34m(\u001b[0m\u001b[0mstylized_image\u001b[0m\u001b[0;34m,\u001b[0m \u001b[0;34m'styled_output.jpg'\u001b[0m\u001b[0;34m,\u001b[0m \u001b[0moutput_dir\u001b[0m\u001b[0;34m)\u001b[0m  \u001b[0;31m# Save stylized image\u001b[0m\u001b[0;34m\u001b[0m\u001b[0;34m\u001b[0m\u001b[0m\n\u001b[0;32m---> 32\u001b[0;31m \u001b[0mshow_img\u001b[0m\u001b[0;34m(\u001b[0m\u001b[0;34m[\u001b[0m\u001b[0mcontent_image\u001b[0m\u001b[0;34m,\u001b[0m \u001b[0mstyle_image\u001b[0m\u001b[0;34m,\u001b[0m \u001b[0mstylized_image\u001b[0m\u001b[0;34m]\u001b[0m\u001b[0;34m,\u001b[0m \u001b[0mtitles\u001b[0m\u001b[0;34m=\u001b[0m\u001b[0;34m[\u001b[0m\u001b[0;34m'Original Content Image'\u001b[0m\u001b[0;34m,\u001b[0m \u001b[0;34m'Style Image'\u001b[0m\u001b[0;34m,\u001b[0m \u001b[0;34m'Stylized Image (Output)'\u001b[0m\u001b[0;34m]\u001b[0m\u001b[0;34m)\u001b[0m\u001b[0;34m\u001b[0m\u001b[0;34m\u001b[0m\u001b[0m\n\u001b[0m",
      "\u001b[0;32m/var/folders/sg/4x_5htrx3y7fm7z77wcz8c_40000gn/T/ipykernel_67768/1649066935.py\u001b[0m in \u001b[0;36mshow_img\u001b[0;34m(images, titles, figsize)\u001b[0m\n\u001b[1;32m      6\u001b[0m   \u001b[0;32mfor\u001b[0m \u001b[0mi\u001b[0m\u001b[0;34m,\u001b[0m \u001b[0mimg\u001b[0m \u001b[0;32min\u001b[0m \u001b[0menumerate\u001b[0m\u001b[0;34m(\u001b[0m\u001b[0mimages\u001b[0m\u001b[0;34m)\u001b[0m\u001b[0;34m:\u001b[0m\u001b[0;34m\u001b[0m\u001b[0;34m\u001b[0m\u001b[0m\n\u001b[1;32m      7\u001b[0m     \u001b[0mplt\u001b[0m\u001b[0;34m.\u001b[0m\u001b[0msubplot\u001b[0m\u001b[0;34m(\u001b[0m\u001b[0;36m1\u001b[0m\u001b[0;34m,\u001b[0m \u001b[0mimgs\u001b[0m\u001b[0;34m,\u001b[0m \u001b[0mi\u001b[0m \u001b[0;34m+\u001b[0m \u001b[0;36m1\u001b[0m\u001b[0;34m)\u001b[0m\u001b[0;34m\u001b[0m\u001b[0;34m\u001b[0m\u001b[0m\n\u001b[0;32m----> 8\u001b[0;31m     \u001b[0;32mif\u001b[0m \u001b[0mtype\u001b[0m\u001b[0;34m(\u001b[0m\u001b[0mimg\u001b[0m\u001b[0;34m)\u001b[0m \u001b[0;34m==\u001b[0m \u001b[0mtf\u001b[0m\u001b[0;34m.\u001b[0m\u001b[0mpython\u001b[0m\u001b[0;34m.\u001b[0m\u001b[0mframework\u001b[0m\u001b[0;34m.\u001b[0m\u001b[0mops\u001b[0m\u001b[0;34m.\u001b[0m\u001b[0mEagerTensor\u001b[0m\u001b[0;34m:\u001b[0m\u001b[0;34m\u001b[0m\u001b[0;34m\u001b[0m\u001b[0m\n\u001b[0m\u001b[1;32m      9\u001b[0m       \u001b[0;31m# The output image is by default an EagerTensor instance, hence we will need to squeeze the image dimensions for display\u001b[0m\u001b[0;34m\u001b[0m\u001b[0;34m\u001b[0m\u001b[0;34m\u001b[0m\u001b[0m\n\u001b[1;32m     10\u001b[0m       \u001b[0mimages\u001b[0m\u001b[0;34m[\u001b[0m\u001b[0mi\u001b[0m\u001b[0;34m]\u001b[0m \u001b[0;34m=\u001b[0m \u001b[0mnp\u001b[0m\u001b[0;34m.\u001b[0m\u001b[0msqueeze\u001b[0m\u001b[0;34m(\u001b[0m\u001b[0mimages\u001b[0m\u001b[0;34m[\u001b[0m\u001b[0mi\u001b[0m\u001b[0;34m]\u001b[0m\u001b[0;34m)\u001b[0m\u001b[0;34m\u001b[0m\u001b[0;34m\u001b[0m\u001b[0m\n",
      "\u001b[0;31mAttributeError\u001b[0m: module 'tensorflow' has no attribute 'python'"
     ]
    },
    {
     "data": {
      "image/png": "[encoded data removed]",
      "text/plain": [
       "<Figure size 1440x576 with 1 Axes>"
      ]
     },
     "metadata": {
      "needs_background": "light"
     },
     "output_type": "display_data"
    }
   ],
   "source": [
    "# Main program here\n",
    "cwd = os.getcwd()\n",
    "img_dir = os.path.join(cwd, 'images')\n",
    "output_dir = os.path.join(cwd, 'output')\n",
    "\n",
    "if not os.path.isdir(output_dir):\n",
    "    os.mkdir(os.path.join(cwd, output_dir))\n",
    "\n",
    "# Content image to be chosen\n",
    "content_image_path = './klcc.jpg'\n",
    "content_images = os.listdir(os.path.join(img_dir, 'content'))\n",
    "content_images = sorted(content_images)\n",
    "print(f'The content images available by default are: {content_images}\\n')\n",
    "content_img = content_images[0]\n",
    "content_image_path = os.path.join(img_dir, 'content', content_img)\n",
    "content_image = plt.imread(content_image_path)\n",
    "\n",
    "# Choosing style image\n",
    "style_images = os.listdir(os.path.join(img_dir, 'styles'))\n",
    "style_images = sorted(style_images)\n",
    "print(f'The style images available by default are: {style_images}\\n')\n",
    "style_img = style_images[2]\n",
    "\n",
    "style_image_path = os.path.join(img_dir, 'styles', style_img)\n",
    "style_image = plt.imread(style_image_path)\n",
    "\n",
    "\n",
    "stylized_image = style_img_magenta(content_image=content_image, style_image=style_image, hub_module=hub_module)\n",
    "stylized_image = np.squeeze(stylized_image)  # Prepare EagerTensor image for display\n",
    "\n",
    "save_image(stylized_image, 'styled_output.jpg', output_dir)  # Save stylized image\n",
    "show_img([content_image, style_image, stylized_image], titles=['Original Content Image', 'Style Image', 'Stylized Image (Output)'])"
   ]
  },
  {
   "cell_type": "code",
   "execution_count": null,
   "metadata": {},
   "outputs": [],
   "source": []
  }
 ],
 "metadata": {
  "interpreter": {
   "hash": "916dbcbb3f70747c44a77c7bcd40155683ae19c65e1c03b4aa3499c5328201f1"
  },
  "kernelspec": {
   "display_name": "Python 3.8.10 64-bit",
   "name": "python3"
  },
  "language_info": {
   "codemirror_mode": {
    "name": "ipython",
    "version": 3
   },
   "file_extension": ".py",
   "mimetype": "text/x-python",
   "name": "python",
   "nbconvert_exporter": "python",
   "pygments_lexer": "ipython3",
   "version": "3.8.2"
  },
  "orig_nbformat": 4
 },
 "nbformat": 4,
 "nbformat_minor": 2
}
